{
  "nbformat": 4,
  "nbformat_minor": 0,
  "metadata": {
    "colab": {
      "provenance": []
    },
    "kernelspec": {
      "name": "python3",
      "display_name": "Python 3"
    },
    "language_info": {
      "name": "python"
    }
  },
  "cells": [
    {
      "cell_type": "code",
      "execution_count": null,
      "metadata": {
        "id": "eWZznSZJ1ec3"
      },
      "outputs": [],
      "source": []
    },
    {
      "cell_type": "markdown",
      "source": [
        "1. What is Python, and why is it popular?\n",
        "  - Python is a high-level,interpreted programming language which is simple and easy. It was created by Guido van Rossum in the year 1991.\n",
        "  - Python is mosstly popular because it is easy to learn and read, versatile, have many inbuilt functions and libraries, and is intrepreted language.\n",
        "2. What is an interpreter in Python?\n",
        "  - An interpreter in python is a program that executes python code line by line.\n",
        "3. What are pre-defined keywords in Python?\n",
        "  - Pre-defined keywords are also called as reserved keywords. These have special meanings and cannot be used as variable names, function names, or as identifiers.\n",
        "  - Some of the pre-defined keywords are: if, else, or, is, in, not, True, False, del, elif, try, return etc.\n",
        "4. Can keywords be used as variable names?\n",
        "  - Keywords are the pre-defined words and can't be changed. We can't use them as variable name. Ecah keyword has a specific task to perform, when we use them as variable name it returns SyntaxError.\n",
        "5. What is mutability in Python?\n",
        "  - Mutability means whether an object's value can be changed after it is created. Mutable objects can be modified after their creation.\n",
        "  - Examples of mutable Data types in python are: lists, sets, dictionaries.\n",
        "6. Why are lists mutable, but tuples are immutable?\n",
        "  -  Lists are dynamic and flexible. We can perform list operations on a list without creating a new list. Lists stores elements as an array, so they can be reassigned without creating entire list. So lists are mutable.\n",
        "  - Tuples are fixed i.e; once created, their elements can't be modified, added, or removed. Tuples take less memeory space and are faster than lists, so they are immutable.\n",
        "7. What is the difference between “==” and “is” operators in Python?\n",
        "  - The \"==\"(Equality Operator) checks if the value of two objects were same or not. It does not check whether they refer to the same memory location.\n",
        "  - The \"is\"(Identity Operator) checks whether two objects refer to the same memory location or not. It does not compare the values.\n",
        "8. What are logical operators in Python?\n",
        "  - In python, Logical operators are used to combine multiple conditions and return a boolean value i.e; True or False.\n",
        "  - We have three types of logical operators:and, or, not.\n",
        "  - and -> returns True if both the conditions are True and False in all other cases.\n",
        "  - or ->  returns True if atleast one condition is True and False if both conditions are False.\n",
        "  - not -> returns the reverse of the boolean value i.e; False gives True and viceversa.\n",
        "9. What is type casting in Python?\n",
        "  - Type casting is a process of converting a variable from one data type to another. There are two types of Type casting: Implicit and  Explicit type  casting.\n",
        "  - Implicit type casting automatically converts one data type to another when no data loss occurs.\n",
        "  - In explicit type casting the user manually converts one datatype into another using casting functions.\n",
        "10. What is the difference between implicit and explicit type casting?\n",
        "  - Implicit type casting automatically converts one data type to another when no data loss occurs. The conversion is automatically done by the python interpreter.\n",
        "  - In explicit type casting the user manually converts one datatype into another using casting functions.  The conversion is manually done by the programmer.\n",
        "11.  What is the purpose of conditional statements in Python?\n",
        "  - Conditional statements in python allow a program to make decisions based on the given condition. The program gets executed based on the given conditons.\n",
        "  - There are three conditonal statements: if, if-else, if-elif-else.\n",
        "12. How does the elif statement work?\n",
        "  - The elif  statement is used to check multiple conditions in sequence.\n",
        "  - Python first checks the if condition. If the if is True, then python executes the statement and skips the rest. If the if statement is False, then the python checks the first elif condition. If it is True, the block executes. If none of the conditions are True, the else block gets executed.\n",
        "13. What is the difference between for and while loops?\n",
        "  - For loop: It is used when number of iterations are known. It gets executed until it reaches the end of a sequence.\n",
        "  - While loop: It is used when number of iterations are unknnown and depend on a specific condition. It gets executed until a condition becomes False.\n",
        "14. Describe a scenario where a while loop is more suitable than a for loop.\n",
        "  - One of the scenario where the while loop is more suitable than a for loop is \"User Login\".\n",
        "  - In a user login program, we must enter the correct password to log in. Since we don't know how many attempts, it is better to take a while loop.\n",
        "  - Code is:\n",
        "  correct_password = \"python123\"\\n\n",
        "  user_password = \" \"\\n\n",
        "  while user_password != correct_password:\\n\n",
        "     user_passwoord = input(\"Enter your password:\")\\n\n",
        "  print(\"Access granted!\")\n",
        "\n"
      ],
      "metadata": {
        "id": "HoVxo_dT3h9F"
      }
    },
    {
      "cell_type": "markdown",
      "source": [],
      "metadata": {
        "id": "OUtPg_Zh7YkH"
      }
    },
    {
      "cell_type": "code",
      "source": [
        "#1.Write a Python program to print \"Hello, World!\"\n",
        "print(\"Hello, World!\")"
      ],
      "metadata": {
        "colab": {
          "base_uri": "https://localhost:8080/"
        },
        "id": "gvqtjFkv7USZ",
        "outputId": "78895cb8-6ceb-4450-aaee-1df5b8d29539"
      },
      "execution_count": 2,
      "outputs": [
        {
          "output_type": "stream",
          "name": "stdout",
          "text": [
            "Hello, World!\n"
          ]
        }
      ]
    },
    {
      "cell_type": "code",
      "source": [
        "#2.Write a Python program that displays your name and age.\n",
        "name=input(\"Enter your name:\")\n",
        "age= input(\"Enter your age:\")\n",
        "print(\"My name is\",name)\n",
        "print(\"My age is\",age)"
      ],
      "metadata": {
        "colab": {
          "base_uri": "https://localhost:8080/"
        },
        "id": "ay4s02iTZ8qH",
        "outputId": "54eac79b-4bf4-44ea-9708-114ffed28921"
      },
      "execution_count": 5,
      "outputs": [
        {
          "output_type": "stream",
          "name": "stdout",
          "text": [
            "Enter your name:Priya\n",
            "Enter your age:20\n",
            "My name is Priya\n",
            "My age is 20\n"
          ]
        }
      ]
    },
    {
      "cell_type": "code",
      "source": [
        "#3.Write code to print all the pre-defined keywords in Python using the keyword librar\n",
        "import keyword\n",
        "print(\"List of Python keywords:\")\n",
        "keyword.kwlist"
      ],
      "metadata": {
        "colab": {
          "base_uri": "https://localhost:8080/"
        },
        "id": "jeic3xdAaoxC",
        "outputId": "c6658130-dfcc-40bf-f0a4-2e2af93d4e7b"
      },
      "execution_count": 6,
      "outputs": [
        {
          "output_type": "stream",
          "name": "stdout",
          "text": [
            "List of Python keywords:\n"
          ]
        },
        {
          "output_type": "execute_result",
          "data": {
            "text/plain": [
              "['False',\n",
              " 'None',\n",
              " 'True',\n",
              " 'and',\n",
              " 'as',\n",
              " 'assert',\n",
              " 'async',\n",
              " 'await',\n",
              " 'break',\n",
              " 'class',\n",
              " 'continue',\n",
              " 'def',\n",
              " 'del',\n",
              " 'elif',\n",
              " 'else',\n",
              " 'except',\n",
              " 'finally',\n",
              " 'for',\n",
              " 'from',\n",
              " 'global',\n",
              " 'if',\n",
              " 'import',\n",
              " 'in',\n",
              " 'is',\n",
              " 'lambda',\n",
              " 'nonlocal',\n",
              " 'not',\n",
              " 'or',\n",
              " 'pass',\n",
              " 'raise',\n",
              " 'return',\n",
              " 'try',\n",
              " 'while',\n",
              " 'with',\n",
              " 'yield']"
            ]
          },
          "metadata": {},
          "execution_count": 6
        }
      ]
    },
    {
      "cell_type": "code",
      "source": [
        "#4.Write a program that checks if a given word is a Python keyword.\n",
        "import keyword\n",
        "word = input(\"Enter a word: \")\n",
        "if keyword.iskeyword(word):\n",
        "    print(f\"'{word}' is a Python keyword.\")\n",
        "else:\n",
        "    print(f\"'{word}' is NOT a Python keyword.\")\n"
      ],
      "metadata": {
        "colab": {
          "base_uri": "https://localhost:8080/"
        },
        "id": "XyYSLbdHbL5l",
        "outputId": "77f61513-afc0-4757-dd98-6ea433fc78d9"
      },
      "execution_count": 10,
      "outputs": [
        {
          "output_type": "stream",
          "name": "stdout",
          "text": [
            "Enter a word: Else\n",
            "'Else' is NOT a Python keyword.\n"
          ]
        }
      ]
    },
    {
      "cell_type": "code",
      "source": [
        "#5. Create a list and tuple in Python, and demonstrate how attempting to change an element works differently for each.\n",
        "list=[1,2,3]\n",
        "tuple=(1,2,3)\n",
        "list[0]=4\n",
        "print(list)\n",
        "tuple[0]=4\n",
        "print(tuple)\n"
      ],
      "metadata": {
        "colab": {
          "base_uri": "https://localhost:8080/",
          "height": 219
        },
        "id": "EzOI8mbgb5dV",
        "outputId": "c9e28971-73a9-4360-97ed-7970094ba5a9"
      },
      "execution_count": 12,
      "outputs": [
        {
          "output_type": "stream",
          "name": "stdout",
          "text": [
            "[4, 2, 3]\n"
          ]
        },
        {
          "output_type": "error",
          "ename": "TypeError",
          "evalue": "'tuple' object does not support item assignment",
          "traceback": [
            "\u001b[0;31m---------------------------------------------------------------------------\u001b[0m",
            "\u001b[0;31mTypeError\u001b[0m                                 Traceback (most recent call last)",
            "\u001b[0;32m<ipython-input-12-67e2f88935cb>\u001b[0m in \u001b[0;36m<cell line: 0>\u001b[0;34m()\u001b[0m\n\u001b[1;32m      4\u001b[0m \u001b[0mlist\u001b[0m\u001b[0;34m[\u001b[0m\u001b[0;36m0\u001b[0m\u001b[0;34m]\u001b[0m\u001b[0;34m=\u001b[0m\u001b[0;36m4\u001b[0m\u001b[0;34m\u001b[0m\u001b[0;34m\u001b[0m\u001b[0m\n\u001b[1;32m      5\u001b[0m \u001b[0mprint\u001b[0m\u001b[0;34m(\u001b[0m\u001b[0mlist\u001b[0m\u001b[0;34m)\u001b[0m\u001b[0;34m\u001b[0m\u001b[0;34m\u001b[0m\u001b[0m\n\u001b[0;32m----> 6\u001b[0;31m \u001b[0mtuple\u001b[0m\u001b[0;34m[\u001b[0m\u001b[0;36m0\u001b[0m\u001b[0;34m]\u001b[0m\u001b[0;34m=\u001b[0m\u001b[0;36m4\u001b[0m\u001b[0;34m\u001b[0m\u001b[0;34m\u001b[0m\u001b[0m\n\u001b[0m\u001b[1;32m      7\u001b[0m \u001b[0mprint\u001b[0m\u001b[0;34m(\u001b[0m\u001b[0mtuple\u001b[0m\u001b[0;34m)\u001b[0m\u001b[0;34m\u001b[0m\u001b[0;34m\u001b[0m\u001b[0m\n",
            "\u001b[0;31mTypeError\u001b[0m: 'tuple' object does not support item assignment"
          ]
        }
      ]
    },
    {
      "cell_type": "code",
      "source": [
        "#6.Write a function to demonstrate the behavior of mutable and immutable arguments.\n",
        "#Mutable argument(List):\n",
        "list=[4,5,6]\n",
        "list.append(7)\n",
        "print(list)\n",
        "#Immutable argumnet(set):\n",
        "set={1,2,3}\n",
        "set.add(5)\n",
        "set\n",
        "\n",
        "\n"
      ],
      "metadata": {
        "colab": {
          "base_uri": "https://localhost:8080/"
        },
        "id": "Rl1_3fwHdJqN",
        "outputId": "7149c921-d0a3-4287-fcc3-76a2ae44a733"
      },
      "execution_count": 20,
      "outputs": [
        {
          "output_type": "stream",
          "name": "stdout",
          "text": [
            "[4, 5, 6, 7]\n"
          ]
        },
        {
          "output_type": "execute_result",
          "data": {
            "text/plain": [
              "{1, 2, 3, 5}"
            ]
          },
          "metadata": {},
          "execution_count": 20
        }
      ]
    },
    {
      "cell_type": "code",
      "source": [
        "#7.Write a program that performs basic arithmetic operations on two user-input numbers.\n",
        "x=int(input(\"Enter first number:\"))\n",
        "y=int(input(\"Enter second number:\"))\n",
        "print(\"Addition of two numbers:\",x+y)\n",
        "print(\"Subtraction of two numbers:\",x-y)\n",
        "print(\"Multiplication of two numbers:\",x*y)\n",
        "print(\"Division of two numbers:\",x/y)\n",
        "print(\"Floor division of two numbers:\",x//y)\n",
        "print(\"Modulus of two numbers:\",x%y)\n",
        "print(\"Exponent of two numbers:\",x**y)"
      ],
      "metadata": {
        "colab": {
          "base_uri": "https://localhost:8080/"
        },
        "id": "imBR3yjDfWXj",
        "outputId": "1efe9ce9-2206-450d-e7c8-6eb5e2f61893"
      },
      "execution_count": 37,
      "outputs": [
        {
          "output_type": "stream",
          "name": "stdout",
          "text": [
            "Enter first number:20\n",
            "Enter second number:5\n",
            "Addition of two numbers: 25\n",
            "Subtraction of two numbers: 15\n",
            "Multiplication of two numbers: 100\n",
            "Division of two numbers: 4.0\n",
            "Floor division of two numbers: 4\n",
            "Modulus of two numbers: 0\n",
            "Exponent of two numbers: 3200000\n"
          ]
        }
      ]
    },
    {
      "cell_type": "code",
      "source": [
        "#8. Write a program to demonstrate the use of logical operators.\n",
        "a=int(input(\"Enter first number:\"))\n",
        "b=int(input(\"Enter second number:\"))\n",
        "print(a>b and a<b)\n",
        "print(a>b or a<b)\n",
        "print(not(a>b))"
      ],
      "metadata": {
        "colab": {
          "base_uri": "https://localhost:8080/"
        },
        "id": "gorFaaeif8iE",
        "outputId": "ef89fafb-7322-430f-f334-9826f8ddf34a"
      },
      "execution_count": 36,
      "outputs": [
        {
          "output_type": "stream",
          "name": "stdout",
          "text": [
            "Enter first number:10\n",
            "Enter second number:5\n",
            "False\n",
            "True\n",
            "False\n"
          ]
        }
      ]
    },
    {
      "cell_type": "code",
      "source": [
        "#9. Write a Python program to convert user input from string to integer, float, and boolean types.\n",
        "user_input=input(\"Enter a value:\")\n",
        "integer_value=int(user_input)\n",
        "float_value=float(user_input)\n",
        "boolean_value=bool(user_input)\n",
        "print(\"Integer value:\",integer_value)\n",
        "print(\"Float value:\",float_value)\n",
        "print(\"Boolean value:\",boolean_value)"
      ],
      "metadata": {
        "colab": {
          "base_uri": "https://localhost:8080/"
        },
        "id": "6K2YgNuZgfz-",
        "outputId": "38b70d74-e242-418a-c457-2c78169d203f"
      },
      "execution_count": 26,
      "outputs": [
        {
          "output_type": "stream",
          "name": "stdout",
          "text": [
            "Enter a value:10\n",
            "Integer value: 10\n",
            "Float value: 10.0\n",
            "Boolean value: True\n"
          ]
        }
      ]
    },
    {
      "cell_type": "code",
      "source": [
        "#10.Write code to demonstrate type casting with list elements.\n",
        "list=[1,2.3,True,\"priya\"]\n",
        "new_list=[str(i) for i in list]\n",
        "print(list)\n",
        "print(new_list)"
      ],
      "metadata": {
        "colab": {
          "base_uri": "https://localhost:8080/"
        },
        "id": "j0JiZYjshGQ8",
        "outputId": "6d86ccbe-1f88-46df-ffb4-4aebacf3857f"
      },
      "execution_count": 32,
      "outputs": [
        {
          "output_type": "stream",
          "name": "stdout",
          "text": [
            "[1, 2.3, True, 'priya']\n",
            "['1', '2.3', 'True', 'priya']\n"
          ]
        }
      ]
    },
    {
      "cell_type": "code",
      "source": [
        "#11. Write a program that checks if a number is positive, negative, or zero.\n",
        "num=int(input(\"Enter a number:\"))\n",
        "if num>0:\n",
        "  print(\"Number is positive\")\n",
        "elif num<0:\n",
        "  print(\"Number is negative\")\n",
        "else:\n",
        "  print(\"Number is zero\")\n"
      ],
      "metadata": {
        "colab": {
          "base_uri": "https://localhost:8080/"
        },
        "id": "LY9Dj35OkNVZ",
        "outputId": "fc60431d-bae6-4a13-c4ee-fa19e5acdfc0"
      },
      "execution_count": 38,
      "outputs": [
        {
          "output_type": "stream",
          "name": "stdout",
          "text": [
            "Enter a number:29\n",
            "Number is positive\n"
          ]
        }
      ]
    },
    {
      "cell_type": "code",
      "source": [
        "#12. Write a for loop to print numbers from 1 to 10.\n",
        "for i in range(1,11):\n",
        "  print(i)"
      ],
      "metadata": {
        "colab": {
          "base_uri": "https://localhost:8080/"
        },
        "id": "qnTznl_aloiI",
        "outputId": "9503f792-b6d9-40b4-c616-237fc8d6b05b"
      },
      "execution_count": 40,
      "outputs": [
        {
          "output_type": "stream",
          "name": "stdout",
          "text": [
            "1\n",
            "2\n",
            "3\n",
            "4\n",
            "5\n",
            "6\n",
            "7\n",
            "8\n",
            "9\n",
            "10\n"
          ]
        }
      ]
    },
    {
      "cell_type": "code",
      "source": [
        "#13.Write a Python program to find the sum of all even numbers between 1 and 50.\n",
        "sum=0\n",
        "for i in range(1,51):\n",
        "  if (i%2==0):\n",
        "    sum=sum+i\n",
        "print(\"Sum of all even numbers between 1 and 50:\",sum)"
      ],
      "metadata": {
        "colab": {
          "base_uri": "https://localhost:8080/"
        },
        "id": "g-u7YZjhl4xX",
        "outputId": "098c40cb-1285-438c-d28a-85c6c1ea21f6"
      },
      "execution_count": 41,
      "outputs": [
        {
          "output_type": "stream",
          "name": "stdout",
          "text": [
            "Sum of all even numbers between 1 and 50: 650\n"
          ]
        }
      ]
    },
    {
      "cell_type": "code",
      "source": [
        "#14.Write a program to reverse a string using a while loop.\n",
        "str=input(\"Enter a string:\")\n",
        "rev=\"\"\n",
        "i=len(str)-1\n",
        "while i>=0:\n",
        "  rev=rev+str[i]\n",
        "  i=i-1\n",
        "print(\"Reversed string:\",rev)"
      ],
      "metadata": {
        "colab": {
          "base_uri": "https://localhost:8080/"
        },
        "id": "aLzaOzvymSHg",
        "outputId": "351d457e-c49d-462d-83b1-d9717a707923"
      },
      "execution_count": 42,
      "outputs": [
        {
          "output_type": "stream",
          "name": "stdout",
          "text": [
            "Enter a string:priya\n",
            "Reversed string: ayirp\n"
          ]
        }
      ]
    },
    {
      "cell_type": "code",
      "source": [
        "#15.Write a Python program to calculate the factorial of a number provided by the user using a while loop.\n",
        "num=int(input(\"Enter a number:\"))\n",
        "fact=1\n",
        "i=1\n",
        "while i<=num:\n",
        "  fact=fact*i\n",
        "  i=i+1\n",
        "print(\"Factorial of\",num,\"is\",fact)"
      ],
      "metadata": {
        "colab": {
          "base_uri": "https://localhost:8080/"
        },
        "id": "pQr-sUVJmhbS",
        "outputId": "78286f36-6ad4-4bc3-a059-fdf3fac3dc3c"
      },
      "execution_count": 43,
      "outputs": [
        {
          "output_type": "stream",
          "name": "stdout",
          "text": [
            "Enter a number:5\n",
            "Factorial of 5 is 120\n"
          ]
        }
      ]
    }
  ]
}